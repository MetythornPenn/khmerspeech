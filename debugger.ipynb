{
 "cells": [
  {
   "cell_type": "markdown",
   "id": "4cf68000",
   "metadata": {},
   "source": [
    "## Normalize"
   ]
  },
  {
   "cell_type": "code",
   "execution_count": 6,
   "id": "f172fb04",
   "metadata": {},
   "outputs": [
    {
     "data": {
      "text/plain": [
       "'ការសិក្សាត្រូវមាន ការព្យាយាម this is the function for word segmentation ! សូន្យ▁ដប់▁មួយរយ▁ម្ភៃបី▁មួយរយ▁ម្ភៃបី គិតថ្លៃ មួយរយដុល្លារ▁ម្ភៃប្រាំសេន នៅថ្ងៃទី ពីរពាន់▁ម្ភៃបួន មួយ ពីរ វេលា ដប់ ម្ភៃបី▁A▁M ចូលតាម google dot com dot k▁h'"
      ]
     },
     "execution_count": 6,
     "metadata": {},
     "output_type": "execute_result"
    }
   ],
   "source": [
    "import json\n",
    "import regex as re\n",
    "import shutil\n",
    "from dataclasses import asdict, dataclass\n",
    "from pathlib import Path\n",
    "from typing import Dict, List, Tuple\n",
    "\n",
    "from datasets import Audio, Dataset, DatasetDict, load_from_disk\n",
    "from khmercut import tokenize as khmer_tokenize\n",
    "\n",
    "from khmerspeech import (\n",
    "  normalize,\n",
    "  datetime as km_datetime,\n",
    "  phone_numbers,\n",
    "  currency,\n",
    "  cardinals,\n",
    "  decimals,\n",
    "  urls,\n",
    "  ordinals,\n",
    "  dict_verbalize,\n",
    "  repeater,\n",
    "  punctuations,\n",
    "  parenthesis\n",
    ")\n",
    "\n",
    "def segment_text(text: str) -> str:\n",
    "    text = normalize.processor(text)\n",
    "    text = phone_numbers.processor(text, chunk_size=3)\n",
    "    text = km_datetime.date_processor(text)\n",
    "    text = km_datetime.time_processor(text)\n",
    "    text = urls.processor(text)\n",
    "    text = repeater.processor(text)\n",
    "    text = currency.processor(text)\n",
    "    text = cardinals.processor(text)\n",
    "    text = decimals.processor(text)\n",
    "    text = ordinals.processor(text)\n",
    "    text = punctuations.processor(text)\n",
    "    text = dict_verbalize(text)\n",
    "    text = re.sub(r\"\\s+\", \" \", text.strip())\n",
    "    \n",
    "    return text\n",
    "\n",
    "segment_text('ការសិក្សាត្រូវមាន       ការព្យាយាម this  is the function for word segmentation!!! 010123123 គិតថ្លៃ $100.25 នៅថ្ងៃទី 2024-01-02 វេលា 10:23AM ចូលតាម https://google.com.kh')\n",
    "# segment_text('ការសិក្សាត្រូវមានការព្យាយាម')"
   ]
  },
  {
   "cell_type": "markdown",
   "id": "a526ece5",
   "metadata": {},
   "source": [
    "## Phone Numbers"
   ]
  },
  {
   "cell_type": "code",
   "execution_count": 6,
   "id": "3c3fdad1",
   "metadata": {},
   "outputs": [
    {
     "data": {
      "text/plain": [
       "'0▁10▁12▁31▁23'"
      ]
     },
     "execution_count": 6,
     "metadata": {},
     "output_type": "execute_result"
    }
   ],
   "source": [
    "from khmerspeech import phone_numbers\n",
    "\n",
    "phone_numbers.processor(\"010123123\", chunk_size=2)"
   ]
  },
  {
   "cell_type": "code",
   "execution_count": 7,
   "id": "e062603c",
   "metadata": {},
   "outputs": [
    {
     "data": {
      "text/plain": [
       "'0▁10▁123▁123'"
      ]
     },
     "execution_count": 7,
     "metadata": {},
     "output_type": "execute_result"
    }
   ],
   "source": [
    "phone_numbers.processor(\"010123123\", chunk_size=3)"
   ]
  },
  {
   "cell_type": "markdown",
   "id": "da81d083",
   "metadata": {},
   "source": [
    "## URLs and Emails"
   ]
  },
  {
   "cell_type": "code",
   "execution_count": 12,
   "id": "3c707fd0",
   "metadata": {},
   "outputs": [
    {
     "name": "stdout",
     "output_type": "stream",
     "text": [
      "has url\n",
      "no url\n",
      "host.lower() port 2000   www dot acledabank dot com dot k▁h host.lower() port 2000\n"
     ]
    }
   ],
   "source": [
    "from khmerspeech import urls\n",
    "\n",
    "text = \"\"\"\n",
    "Contact us at support@gmail.com or visit http://moe.gov.kh for more info.\n",
    "Local test: http://localhost:8080.\n",
    "Acleda : https://www.acledabank.com.kh/\n",
    "\"\"\"\n",
    "\n",
    "text2 = \"http://localhost:2000   https://www.acledabank.com.kh http://localhost:2000\"\n",
    "\n",
    "print(urls.processor(text2))\n",
    "\n",
    "\n",
    "\n"
   ]
  },
  {
   "cell_type": "markdown",
   "id": "c732f0bf",
   "metadata": {},
   "source": [
    "## hashtags"
   ]
  },
  {
   "cell_type": "code",
   "execution_count": null,
   "id": "16876540",
   "metadata": {},
   "outputs": [],
   "source": []
  },
  {
   "cell_type": "markdown",
   "id": "281e5030",
   "metadata": {},
   "source": [
    "## repeaters"
   ]
  },
  {
   "cell_type": "code",
   "execution_count": null,
   "id": "ec78cf67",
   "metadata": {},
   "outputs": [],
   "source": []
  },
  {
   "cell_type": "markdown",
   "id": "0261e11d",
   "metadata": {},
   "source": [
    "## Datetimes"
   ]
  },
  {
   "cell_type": "code",
   "execution_count": 7,
   "id": "ef6d18fd",
   "metadata": {},
   "outputs": [
    {
     "name": "stdout",
     "output_type": "stream",
     "text": [
      "Original:\n",
      "Meet on 2025-10-20 at 7:05pm.\n",
      "ពិភាក្សា ២០២៥/១០/២០ ម៉ោង ០៨:៥៩ AM.\n",
      "Invoice date: 20/10/2025 and follow-up at 12:30.\n",
      "\n",
      "Dates normalized:\n",
      "Meet on 2025 10 20 at 7:05pm.\n",
      "ពិភាក្សា ២០២៥ ១០ ២០ ម៉ោង ០៨:៥៩ AM.\n",
      "Invoice date: 20 10 2025 and follow-up at 12:30.\n",
      "\n",
      "Times normalized:\n",
      "Meet on 2025-10-20 at 7 05▁p▁m.\n",
      "ពិភាក្សា ២០២៥/១០/២០ ម៉ោង ០៨ ៥៩▁A▁M.\n",
      "Invoice date: 20/10/2025 and follow-up at 12 30.\n",
      "\n",
      "Dates then Times (combined):\n",
      "Meet on 2025 10 20 at 7 05▁p▁m.\n",
      "ពិភាក្សា ២០២៥ ១០ ២០ ម៉ោង ០៨ ៥៩▁A▁M.\n",
      "Invoice date: 20 10 2025 and follow-up at 12 30.\n"
     ]
    }
   ],
   "source": [
    "\n",
    "from khmerspeech import datetime\n",
    "\n",
    "# (your regexes and functions here...)\n",
    "\n",
    "text = (\n",
    "    \"Meet on 2025-10-20 at 7:05pm.\\n\"\n",
    "    \"ពិភាក្សា ២០២៥/១០/២០ ម៉ោង ០៨:៥៩ AM.\\n\"\n",
    "    \"Invoice date: 20/10/2025 and follow-up at 12:30.\"\n",
    ")\n",
    "\n",
    "print(\"Original:\")\n",
    "print(text)\n",
    "\n",
    "print(\"\\nDates normalized:\")\n",
    "print(datetime.date_processor(text))\n",
    "\n",
    "print(\"\\nTimes normalized:\")\n",
    "print(datetime.time_processor(text))\n",
    "\n",
    "print(\"\\nDates then Times (combined):\")\n",
    "print(datetime.time_processor(datetime.date_processor(text)))\n"
   ]
  },
  {
   "cell_type": "code",
   "execution_count": null,
   "id": "202a98ef",
   "metadata": {},
   "outputs": [],
   "source": []
  },
  {
   "cell_type": "code",
   "execution_count": null,
   "id": "7d118a06",
   "metadata": {},
   "outputs": [],
   "source": []
  },
  {
   "cell_type": "code",
   "execution_count": null,
   "id": "3884d434",
   "metadata": {},
   "outputs": [],
   "source": [
    "import regex as re\n",
    "\n",
    "RE_HASHTAGS = re.compile(r\"\\B(\\#[a-zA-Z]+\\b)\")\n",
    "RE_ENCLOSED_PARENTHESIS_BACKETS = re.compile(r\"\\s*\\((.*?)\\)\\s*|\\s*\\[(.*?)\\]\\s*\")\n",
    "RE_GENERIC_NUMBER = re.compile(r\"\\d+\\.?\\d*\")\n",
    "RE_NUMBER_COMMAS = re.compile(r\"(\\d+)\\,(\\d+)\")\n",
    "RE_USELESS_COMMAS = re.compile(r\"\\s*\\,\\s*\")\n",
    "RE_ORDINAL_NUMBER = re.compile(r\"^([\\d\\u17e0-\\u17e9]+)\\.\\s\")\n",
    "RE_SPACING_COMMAS = re.compile(\n",
    "  r\"([^0-9\\u17e0-\\u17e9])[,]+([^0-9\\u17e0-\\u17e9]|$)\"\n",
    ")  # abc,abc\n",
    "\n",
    "RE_NUM_LEADING_ZEROS = re.compile(r\"\\.([\\u17e00]+)([\\d\\u17e0-\\u17e9]+)\")\n",
    "\n",
    "def leading_zeros_replacer(m):\n",
    "  padded_zeros = \"▁\".join(m[1])\n",
    "  return f\".▁{padded_zeros}▁{m[2]}\"\n",
    "\n"
   ]
  }
 ],
 "metadata": {
  "kernelspec": {
   "display_name": "base",
   "language": "python",
   "name": "python3"
  },
  "language_info": {
   "codemirror_mode": {
    "name": "ipython",
    "version": 3
   },
   "file_extension": ".py",
   "mimetype": "text/x-python",
   "name": "python",
   "nbconvert_exporter": "python",
   "pygments_lexer": "ipython3",
   "version": "3.13.5"
  }
 },
 "nbformat": 4,
 "nbformat_minor": 5
}
