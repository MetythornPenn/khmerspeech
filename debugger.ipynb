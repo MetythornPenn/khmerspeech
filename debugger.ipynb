{
 "cells": [
  {
   "cell_type": "markdown",
   "id": "4cf68000",
   "metadata": {},
   "source": [
    "## Normalize"
   ]
  },
  {
   "cell_type": "code",
   "execution_count": 12,
   "id": "df4e79e6",
   "metadata": {},
   "outputs": [],
   "source": [
    "from khmerspeech import normalize\n"
   ]
  },
  {
   "cell_type": "code",
   "execution_count": 13,
   "id": "b1970291",
   "metadata": {},
   "outputs": [
    {
     "data": {
      "text/plain": [
       "'មិនឱ្យ'"
      ]
     },
     "execution_count": 13,
     "metadata": {},
     "output_type": "execute_result"
    }
   ],
   "source": [
    "\n",
    "normalize.processor(\"មិន\\u200bឲ្យ\")"
   ]
  },
  {
   "cell_type": "markdown",
   "id": "a526ece5",
   "metadata": {},
   "source": [
    "## Phone Numbers"
   ]
  },
  {
   "cell_type": "code",
   "execution_count": 14,
   "id": "3c3fdad1",
   "metadata": {},
   "outputs": [
    {
     "data": {
      "text/plain": [
       "'0▁10▁12▁31▁23'"
      ]
     },
     "execution_count": 14,
     "metadata": {},
     "output_type": "execute_result"
    }
   ],
   "source": [
    "from khmerspeech import phone_numbers\n",
    "\n",
    "phone_numbers.processor(\"010123123\", chunk_size=2)"
   ]
  },
  {
   "cell_type": "code",
   "execution_count": 15,
   "id": "e062603c",
   "metadata": {},
   "outputs": [
    {
     "data": {
      "text/plain": [
       "'0▁10▁12▁31▁23'"
      ]
     },
     "execution_count": 15,
     "metadata": {},
     "output_type": "execute_result"
    }
   ],
   "source": [
    "phone_numbers.processor(\"010123123\", chunk_size=2)"
   ]
  },
  {
   "cell_type": "code",
   "execution_count": null,
   "id": "8a65bd06",
   "metadata": {},
   "outputs": [],
   "source": []
  },
  {
   "cell_type": "markdown",
   "id": "da81d083",
   "metadata": {},
   "source": [
    "## URLs and Emails"
   ]
  },
  {
   "cell_type": "markdown",
   "id": "b73f1637",
   "metadata": {},
   "source": []
  }
 ],
 "metadata": {
  "kernelspec": {
   "display_name": "base",
   "language": "python",
   "name": "python3"
  },
  "language_info": {
   "codemirror_mode": {
    "name": "ipython",
    "version": 3
   },
   "file_extension": ".py",
   "mimetype": "text/x-python",
   "name": "python",
   "nbconvert_exporter": "python",
   "pygments_lexer": "ipython3",
   "version": "3.11.11"
  }
 },
 "nbformat": 4,
 "nbformat_minor": 5
}
