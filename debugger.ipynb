{
 "cells": [
  {
   "cell_type": "markdown",
   "id": "4cf68000",
   "metadata": {},
   "source": [
    "## Normalize"
   ]
  },
  {
   "cell_type": "code",
   "execution_count": 3,
   "id": "df4e79e6",
   "metadata": {},
   "outputs": [],
   "source": [
    "from khmerspeech import normalize\n"
   ]
  },
  {
   "cell_type": "code",
   "execution_count": 4,
   "id": "b1970291",
   "metadata": {},
   "outputs": [
    {
     "data": {
      "text/plain": [
       "'មិនឱ្យ'"
      ]
     },
     "execution_count": 4,
     "metadata": {},
     "output_type": "execute_result"
    }
   ],
   "source": [
    "\n",
    "normalize.processor(\"មិន\\u200bឲ្យ\")"
   ]
  },
  {
   "cell_type": "markdown",
   "id": "a526ece5",
   "metadata": {},
   "source": [
    "## Phone Numbers"
   ]
  },
  {
   "cell_type": "code",
   "execution_count": 6,
   "id": "3c3fdad1",
   "metadata": {},
   "outputs": [
    {
     "data": {
      "text/plain": [
       "'0▁10▁12▁31▁23'"
      ]
     },
     "execution_count": 6,
     "metadata": {},
     "output_type": "execute_result"
    }
   ],
   "source": [
    "from khmerspeech import phone_numbers\n",
    "\n",
    "phone_numbers.processor(\"010123123\", chunk_size=2)"
   ]
  },
  {
   "cell_type": "code",
   "execution_count": 7,
   "id": "e062603c",
   "metadata": {},
   "outputs": [
    {
     "data": {
      "text/plain": [
       "'0▁10▁123▁123'"
      ]
     },
     "execution_count": 7,
     "metadata": {},
     "output_type": "execute_result"
    }
   ],
   "source": [
    "phone_numbers.processor(\"010123123\", chunk_size=3)"
   ]
  },
  {
   "cell_type": "markdown",
   "id": "da81d083",
   "metadata": {},
   "source": [
    "## URLs and Emails"
   ]
  },
  {
   "cell_type": "code",
   "execution_count": 12,
   "id": "3c707fd0",
   "metadata": {},
   "outputs": [
    {
     "name": "stdout",
     "output_type": "stream",
     "text": [
      "has url\n",
      "no url\n",
      "host.lower() port 2000   www dot acledabank dot com dot k▁h host.lower() port 2000\n"
     ]
    }
   ],
   "source": [
    "from khmerspeech import urls\n",
    "\n",
    "text = \"\"\"\n",
    "Contact us at support@gmail.com or visit http://moe.gov.kh for more info.\n",
    "Local test: http://localhost:8080.\n",
    "Acleda : https://www.acledabank.com.kh/\n",
    "\"\"\"\n",
    "\n",
    "text2 = \"http://localhost:2000   https://www.acledabank.com.kh http://localhost:2000\"\n",
    "\n",
    "print(urls.processor(text2))\n",
    "\n",
    "\n",
    "\n"
   ]
  },
  {
   "cell_type": "markdown",
   "id": "c732f0bf",
   "metadata": {},
   "source": [
    "## hashtags"
   ]
  },
  {
   "cell_type": "code",
   "execution_count": null,
   "id": "16876540",
   "metadata": {},
   "outputs": [],
   "source": []
  },
  {
   "cell_type": "markdown",
   "id": "281e5030",
   "metadata": {},
   "source": [
    "## repeaters"
   ]
  },
  {
   "cell_type": "code",
   "execution_count": null,
   "id": "ec78cf67",
   "metadata": {},
   "outputs": [],
   "source": []
  },
  {
   "cell_type": "markdown",
   "id": "0261e11d",
   "metadata": {},
   "source": [
    "## Datetimes"
   ]
  },
  {
   "cell_type": "code",
   "execution_count": 7,
   "id": "ef6d18fd",
   "metadata": {},
   "outputs": [
    {
     "name": "stdout",
     "output_type": "stream",
     "text": [
      "Original:\n",
      "Meet on 2025-10-20 at 7:05pm.\n",
      "ពិភាក្សា ២០២៥/១០/២០ ម៉ោង ០៨:៥៩ AM.\n",
      "Invoice date: 20/10/2025 and follow-up at 12:30.\n",
      "\n",
      "Dates normalized:\n",
      "Meet on 2025 10 20 at 7:05pm.\n",
      "ពិភាក្សា ២០២៥ ១០ ២០ ម៉ោង ០៨:៥៩ AM.\n",
      "Invoice date: 20 10 2025 and follow-up at 12:30.\n",
      "\n",
      "Times normalized:\n",
      "Meet on 2025-10-20 at 7 05▁p▁m.\n",
      "ពិភាក្សា ២០២៥/១០/២០ ម៉ោង ០៨ ៥៩▁A▁M.\n",
      "Invoice date: 20/10/2025 and follow-up at 12 30.\n",
      "\n",
      "Dates then Times (combined):\n",
      "Meet on 2025 10 20 at 7 05▁p▁m.\n",
      "ពិភាក្សា ២០២៥ ១០ ២០ ម៉ោង ០៨ ៥៩▁A▁M.\n",
      "Invoice date: 20 10 2025 and follow-up at 12 30.\n"
     ]
    }
   ],
   "source": [
    "\n",
    "from khmerspeech import datetime\n",
    "\n",
    "# (your regexes and functions here...)\n",
    "\n",
    "text = (\n",
    "    \"Meet on 2025-10-20 at 7:05pm.\\n\"\n",
    "    \"ពិភាក្សា ២០២៥/១០/២០ ម៉ោង ០៨:៥៩ AM.\\n\"\n",
    "    \"Invoice date: 20/10/2025 and follow-up at 12:30.\"\n",
    ")\n",
    "\n",
    "print(\"Original:\")\n",
    "print(text)\n",
    "\n",
    "print(\"\\nDates normalized:\")\n",
    "print(datetime.date_processor(text))\n",
    "\n",
    "print(\"\\nTimes normalized:\")\n",
    "print(datetime.time_processor(text))\n",
    "\n",
    "print(\"\\nDates then Times (combined):\")\n",
    "print(datetime.time_processor(datetime.date_processor(text)))\n"
   ]
  },
  {
   "cell_type": "code",
   "execution_count": null,
   "id": "202a98ef",
   "metadata": {},
   "outputs": [],
   "source": []
  },
  {
   "cell_type": "code",
   "execution_count": null,
   "id": "7d118a06",
   "metadata": {},
   "outputs": [],
   "source": []
  },
  {
   "cell_type": "code",
   "execution_count": null,
   "id": "3884d434",
   "metadata": {},
   "outputs": [],
   "source": [
    "import regex as re\n",
    "\n",
    "RE_HASHTAGS = re.compile(r\"\\B(\\#[a-zA-Z]+\\b)\")\n",
    "RE_ENCLOSED_PARENTHESIS_BACKETS = re.compile(r\"\\s*\\((.*?)\\)\\s*|\\s*\\[(.*?)\\]\\s*\")\n",
    "RE_GENERIC_NUMBER = re.compile(r\"\\d+\\.?\\d*\")\n",
    "RE_NUMBER_COMMAS = re.compile(r\"(\\d+)\\,(\\d+)\")\n",
    "RE_USELESS_COMMAS = re.compile(r\"\\s*\\,\\s*\")\n",
    "RE_ORDINAL_NUMBER = re.compile(r\"^([\\d\\u17e0-\\u17e9]+)\\.\\s\")\n",
    "RE_SPACING_COMMAS = re.compile(\n",
    "  r\"([^0-9\\u17e0-\\u17e9])[,]+([^0-9\\u17e0-\\u17e9]|$)\"\n",
    ")  # abc,abc\n",
    "\n",
    "RE_NUM_LEADING_ZEROS = re.compile(r\"\\.([\\u17e00]+)([\\d\\u17e0-\\u17e9]+)\")\n",
    "\n",
    "def leading_zeros_replacer(m):\n",
    "  padded_zeros = \"▁\".join(m[1])\n",
    "  return f\".▁{padded_zeros}▁{m[2]}\"\n",
    "\n"
   ]
  }
 ],
 "metadata": {
  "kernelspec": {
   "display_name": "base",
   "language": "python",
   "name": "python3"
  },
  "language_info": {
   "codemirror_mode": {
    "name": "ipython",
    "version": 3
   },
   "file_extension": ".py",
   "mimetype": "text/x-python",
   "name": "python",
   "nbconvert_exporter": "python",
   "pygments_lexer": "ipython3",
   "version": "3.13.5"
  }
 },
 "nbformat": 4,
 "nbformat_minor": 5
}
